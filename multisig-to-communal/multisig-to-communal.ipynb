{
 "cells": [
  {
   "cell_type": "code",
   "execution_count": 7,
   "metadata": {},
   "outputs": [
    {
     "name": "stdout",
     "output_type": "stream",
     "text": [
      "['a0a997ed7a7132f42dcbe8d9ffdc72588a663bcafb56fa288964e706ec857ada', 'ad4246bbf718e00cf15f7ae2148a1bd8addd59bb3395d4dad5a24db0d0595b32', '15877d945a30a014220985bbc8cb06d48cc3a21bc543bb4ade38faad751fb043']\n"
     ]
    }
   ],
   "source": [
    "from bitcoin import *\n",
    "\n",
    "# Generate three Bitcoin wallet private keys in 24-word format\n",
    "mnemonics = [random_key() for _ in range(3)]\n",
    "print(mnemonics)"
   ]
  },
  {
   "cell_type": "code",
   "execution_count": 9,
   "metadata": {},
   "outputs": [
    {
     "name": "stdout",
     "output_type": "stream",
     "text": [
      "[True, True, True]\n"
     ]
    }
   ],
   "source": [
    "def is_private_key(key):\n",
    "\t# A simple check to see if the key is a valid private key\n",
    "\t# This is a placeholder function, you may need to replace it with actual validation logic\n",
    "\treturn len(key) == 64 and all(c in '0123456789abcdef' for c in key)\n",
    "\n",
    "valid_private_keys = [is_private_key(mnemonic) for mnemonic in mnemonics]\n",
    "print(valid_private_keys)"
   ]
  },
  {
   "cell_type": "code",
   "execution_count": 10,
   "metadata": {},
   "outputs": [
    {
     "name": "stdout",
     "output_type": "stream",
     "text": [
      "['42a58e8f75f2b0d45e4dd319100bc3e7bf13d863bf64cef6a7121a84064946e1', '48e3dffb6cfcad4c729a747fff0506dd83e159e92190a555b4cb3f6fc82386e7', 'ce0a6780c0e5a4de6d2f242c302ca0345849d7bf4b1198210ffac15d3027c366']\n"
     ]
    }
   ],
   "source": [
    "import hashlib\n",
    "\n",
    "mnemonic_hashes = [hashlib.sha256(mnemonic.encode()).hexdigest() for mnemonic in mnemonics]\n",
    "print(mnemonic_hashes)"
   ]
  },
  {
   "cell_type": "code",
   "execution_count": 29,
   "metadata": {},
   "outputs": [
    {
     "name": "stdout",
     "output_type": "stream",
     "text": [
      "4a90b883afa1802ad595711166a55feb4094c80b4a971316c40bf009875c8605\n"
     ]
    }
   ],
   "source": [
    "# Concatenate the mnemonic hashes\n",
    "concatenated_hashes = ''.join(mnemonic_hashes)\n",
    "\n",
    "# Hash the concatenated string\n",
    "final_hash = hashlib.sha256(concatenated_hashes.encode()).hexdigest()\n",
    "print(final_hash)"
   ]
  },
  {
   "cell_type": "code",
   "execution_count": 30,
   "metadata": {},
   "outputs": [
    {
     "name": "stdout",
     "output_type": "stream",
     "text": [
      "4a90b883afa1802ad595711166a55feb4094c80b4a971316c40bf009875c8605\n"
     ]
    }
   ],
   "source": [
    "new_private_key = final_hash[:64]\n",
    "print(new_private_key)"
   ]
  },
  {
   "cell_type": "code",
   "execution_count": 31,
   "metadata": {},
   "outputs": [
    {
     "name": "stdout",
     "output_type": "stream",
     "text": [
      "True\n"
     ]
    }
   ],
   "source": [
    "is_valid_new_private_key = is_private_key(new_private_key)\n",
    "print(is_valid_new_private_key)"
   ]
  },
  {
   "cell_type": "code",
   "execution_count": 33,
   "metadata": {},
   "outputs": [
    {
     "name": "stdout",
     "output_type": "stream",
     "text": [
      "New Bitcoin Address: 1Jbn1uBtSLVtALUoPsTjxtMaVftQDtU8yA\n",
      "Balance of the new address: 0 satoshis\n"
     ]
    }
   ],
   "source": [
    "# Generate the Bitcoin address from the new private key\n",
    "new_address = privtoaddr(new_private_key)\n",
    "print(f\"New Bitcoin Address: {new_address}\")\n",
    "\n",
    "# Check the balance of the new address\n",
    "balance = sum(tx['value'] for tx in history(new_address))\n",
    "print(f\"Balance of the new address: {balance} satoshis\")"
   ]
  },
  {
   "cell_type": "code",
   "execution_count": null,
   "metadata": {},
   "outputs": [],
   "source": []
  },
  {
   "cell_type": "code",
   "execution_count": null,
   "metadata": {},
   "outputs": [],
   "source": []
  }
 ],
 "metadata": {
  "kernelspec": {
   "display_name": ".venv",
   "language": "python",
   "name": "python3"
  },
  "language_info": {
   "codemirror_mode": {
    "name": "ipython",
    "version": 3
   },
   "file_extension": ".py",
   "mimetype": "text/x-python",
   "name": "python",
   "nbconvert_exporter": "python",
   "pygments_lexer": "ipython3",
   "version": "3.11.9"
  }
 },
 "nbformat": 4,
 "nbformat_minor": 2
}
