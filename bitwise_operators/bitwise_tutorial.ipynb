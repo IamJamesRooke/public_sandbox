{
 "cells": [
  {
   "cell_type": "markdown",
   "metadata": {},
   "source": [
    "# Bitwise Operators Tutorial\n",
    "\n",
    "Welcome to this tutorial on bitwise operators! In this tutorial, we will learn about the different bitwise operators available in programming and how to use them effectively.\n",
    "\n",
    "## Table of Contents\n",
    "1. Introduction to Bitwise Operators\n",
    "2. AND Operator (&)\n",
    "3. OR Operator (|)\n",
    "4. XOR Operator (^)\n",
    "5. NOT Operator (~)\n",
    "6. Left Shift Operator (<<)\n",
    "7. Right Shift Operator (>>)\n",
    "8. Practical Examples\n",
    "9. Conclusion"
   ]
  },
  {
   "cell_type": "markdown",
   "metadata": {},
   "source": [
    "## Introduction to Bitwise Operators\n",
    "\n",
    "Bitwise operators are used to perform bit-level operations on binary numbers. These operators work directly on the binary representation of integers, allowing for efficient manipulation of individual bits. Bitwise operations are commonly used in low-level programming, such as system programming, embedded systems, and performance-critical applications.\n",
    "\n",
    "In this section, we will explore the various bitwise operators available and understand how they can be applied in different scenarios. By the end of this tutorial, you will have a solid understanding of bitwise operators and how to use them effectively in your code."
   ]
  },
  {
   "cell_type": "markdown",
   "metadata": {},
   "source": [
    "## Creating Variables\n",
    "\n",
    "Let's create three 8-bit variables in binary format that we will work with in this tutorial. These variables will be used to demonstrate the different bitwise operations."
   ]
  },
  {
   "cell_type": "code",
   "execution_count": 136,
   "metadata": {},
   "outputs": [
    {
     "name": "stdout",
     "output_type": "stream",
     "text": [
      "204 0b11001100 11001100\n"
     ]
    }
   ],
   "source": [
    "a = 0b11001100\n",
    "print(a, bin(a), f'{a:008b}')"
   ]
  },
  {
   "cell_type": "code",
   "execution_count": 137,
   "metadata": {},
   "outputs": [
    {
     "name": "stdout",
     "output_type": "stream",
     "text": [
      "a: 11001100 (204)\n",
      "b: 10101010\n",
      "c: 11110000\n"
     ]
    }
   ],
   "source": [
    "# Define three 8-bit variables in binary format\n",
    "a = 0b11001100\n",
    "b = 0b10101010\n",
    "c = 0b11110000\n",
    "\n",
    "# Print the variables\n",
    "print(f\"a: {a:08b} ({a})\")\n",
    "print(f\"b: {b:08b}\")\n",
    "print(f\"c: {c:08b}\")\n"
   ]
  },
  {
   "cell_type": "markdown",
   "metadata": {},
   "source": [
    "`binary8()`\n",
    "Custom function to output all numbers in 8 bit binary."
   ]
  },
  {
   "cell_type": "code",
   "execution_count": 138,
   "metadata": {},
   "outputs": [
    {
     "name": "stdout",
     "output_type": "stream",
     "text": [
      "00000011\n"
     ]
    }
   ],
   "source": [
    "def binary8(n):\n",
    "    return format(n, '08b')\n",
    "\n",
    "# Test the function\n",
    "print(binary8(3))"
   ]
  },
  {
   "cell_type": "markdown",
   "metadata": {},
   "source": [
    "Addition"
   ]
  },
  {
   "cell_type": "code",
   "execution_count": 139,
   "metadata": {},
   "outputs": [
    {
     "name": "stdout",
     "output_type": "stream",
     "text": [
      "00000001\n",
      "00000010\n",
      "————————\n",
      "00000011\n"
     ]
    }
   ],
   "source": [
    "num1 = 1\n",
    "num2 = 2\n",
    "\n",
    "print(binary8(num1))\n",
    "print(binary8(num2))\n",
    "print(\"————————\")\n",
    "print(binary8(num1 + num2))\n"
   ]
  },
  {
   "cell_type": "markdown",
   "metadata": {},
   "source": [
    "Subtraction"
   ]
  },
  {
   "cell_type": "code",
   "execution_count": 140,
   "metadata": {},
   "outputs": [
    {
     "name": "stdout",
     "output_type": "stream",
     "text": [
      "00000100\n",
      "00000010\n",
      "————————\n",
      "00000010\n"
     ]
    }
   ],
   "source": [
    "num1 = 4\n",
    "num2 = 2\n",
    "\n",
    "print(binary8(num1))\n",
    "print(binary8(num2))\n",
    "print(\"————————\")\n",
    "print(binary8(num1 - num2))"
   ]
  },
  {
   "cell_type": "markdown",
   "metadata": {},
   "source": [
    "## Bitwise AND Operator (`&`)\n",
    "- 1 & 1 = 1\n",
    "- Everything Else = 0\n",
    "\n",
    "| Bit of `a` | Bit of `b` | `a & b` |\n",
    "|------------|------------|---------|\n",
    "| 0          | 0          | 0       |\n",
    "| 0          | 1          | 0       |\n",
    "| 1          | 0          | 0       |\n",
    "| 1          | 1          | 1       |"
   ]
  },
  {
   "cell_type": "code",
   "execution_count": 141,
   "metadata": {},
   "outputs": [
    {
     "name": "stdout",
     "output_type": "stream",
     "text": [
      "00110010\n",
      "01100100\n",
      "————————\n",
      "00100000\n"
     ]
    }
   ],
   "source": [
    "num1 = 50\n",
    "num2 = 100\n",
    "num3 = num1 & num2\n",
    "\n",
    "print(binary8(num1))\n",
    "print(binary8(num2))\n",
    "print(\"————————\")\n",
    "print(binary8(num3))"
   ]
  },
  {
   "cell_type": "markdown",
   "metadata": {},
   "source": [
    "## Bitwise OR Operator (`|`)\n",
    "- 0 | 0 = 0\n",
    "- Everything Else = 1\n",
    "\n",
    "| Bit of `a` | Bit of `b` | `a \\| b` |\n",
    "|------------|------------|--------|\n",
    "| 0          | 0          | 0      |\n",
    "| 0          | 1          | 1      |\n",
    "| 1          | 0          | 1      |\n",
    "| 1          | 1          | 1      |"
   ]
  },
  {
   "cell_type": "code",
   "execution_count": 142,
   "metadata": {},
   "outputs": [
    {
     "name": "stdout",
     "output_type": "stream",
     "text": [
      "00110010\n",
      "01100100\n",
      "————————\n",
      "01110110\n"
     ]
    }
   ],
   "source": [
    "num1 = 50\n",
    "num2 = 100\n",
    "num3 = num1 | num2\n",
    "\n",
    "print(binary8(num1))\n",
    "print(binary8(num2))\n",
    "print(\"————————\")\n",
    "print(binary8(num3))"
   ]
  },
  {
   "cell_type": "markdown",
   "metadata": {},
   "source": [
    "## Bitwise XOR Operator (`^`)\n",
    "- Both Different = 1\n",
    "- Both The Same = 0\n",
    "\n",
    "\n",
    "| Bit of `a` | Bit of `b` | `a ^ b` |\n",
    "|------------|------------|---------|\n",
    "| 0          | 0          | 0       |\n",
    "| 0          | 1          | 1       |\n",
    "| 1          | 0          | 1       |\n",
    "| 1          | 1          | 0       |"
   ]
  },
  {
   "cell_type": "code",
   "execution_count": 143,
   "metadata": {},
   "outputs": [
    {
     "name": "stdout",
     "output_type": "stream",
     "text": [
      "00110010\n",
      "01100100\n",
      "————————\n",
      "01010110\n"
     ]
    }
   ],
   "source": [
    "num1 = 50\n",
    "num2 = 100\n",
    "num3 = num1 ^ num2\n",
    "\n",
    "print(binary8(num1))\n",
    "print(binary8(num2))\n",
    "print(\"————————\")\n",
    "print(binary8(num3))"
   ]
  },
  {
   "cell_type": "markdown",
   "metadata": {},
   "source": [
    "\n",
    "## Bitwise NOT Operator (`~`)\n",
    "\n",
    "| Bit of `a` | `~a`       |\n",
    "|------------|------------|\n",
    "| 0          | 1          |\n",
    "| 1          | 0          |\n"
   ]
  },
  {
   "cell_type": "code",
   "execution_count": 144,
   "metadata": {},
   "outputs": [
    {
     "name": "stdout",
     "output_type": "stream",
     "text": [
      "00000001\n",
      "————————\n",
      "11111110\n"
     ]
    }
   ],
   "source": [
    "num1 = 1\n",
    "num2 = ~num1 & 0xFF\n",
    "\n",
    "print(binary8(num1))\n",
    "print(\"————————\")\n",
    "print(binary8(num2))"
   ]
  },
  {
   "cell_type": "markdown",
   "metadata": {},
   "source": [
    "## Bitwise Left Shift Operator (`<<`)\n",
    "\n",
    "The bitwise left shift operator (`<<`) shifts the bits of the first operand to the left by the number of positions specified by the second operand. Each shift to the left effectively multiplies the number by 2.\n",
    "\n",
    "| Bit of `a` | `a << 1`   |\n",
    "|------------|------------|\n",
    "| 0001       | 0010       |\n",
    "| 0010       | 0100       |\n",
    "| 0100       | 1000       |\n"
   ]
  },
  {
   "cell_type": "code",
   "execution_count": 145,
   "metadata": {},
   "outputs": [
    {
     "name": "stdout",
     "output_type": "stream",
     "text": [
      "00100000\n",
      "00000100\n"
     ]
    }
   ],
   "source": [
    "num1 = 32\n",
    "left_shift = 3\n",
    "\n",
    "print(binary8(num1))\n",
    "print(binary8(num1 >> left_shift))"
   ]
  },
  {
   "cell_type": "markdown",
   "metadata": {},
   "source": [
    "\n",
    "## Bitwise Right Shift Operator (`>>`)\n",
    "\n",
    "The bitwise right shift operator (`>>`) shifts the bits of the first operand to the right by the number of positions specified by the second operand. Each shift to the right effectively divides the number by 2.\n",
    "\n",
    "| Bit of `a` | `a >> 1`   |\n",
    "|------------|------------|\n",
    "| 1000       | 0100       |\n",
    "| 0100       | 0010       |\n",
    "| 0010       | 0001       |"
   ]
  },
  {
   "cell_type": "code",
   "execution_count": 146,
   "metadata": {},
   "outputs": [
    {
     "name": "stdout",
     "output_type": "stream",
     "text": [
      "00100000\n",
      "00000100\n"
     ]
    }
   ],
   "source": [
    "num1 = 32\n",
    "right_shift = 3\n",
    "\n",
    "print(binary8(num1))\n",
    "print(binary8(num1 >> right_shift))"
   ]
  },
  {
   "cell_type": "markdown",
   "metadata": {},
   "source": [
    "### Exercise: Right Rotation\n",
    "\n",
    "Without AI, figure out how to do a right rotation with bitwise operations."
   ]
  },
  {
   "cell_type": "code",
   "execution_count": 147,
   "metadata": {},
   "outputs": [
    {
     "name": "stdout",
     "output_type": "stream",
     "text": [
      "00011110\n"
     ]
    }
   ],
   "source": [
    "num = 30\n",
    "max_bits = 8\n",
    "rotate_n_bits = 3\n",
    "print(binary8(num))"
   ]
  },
  {
   "cell_type": "markdown",
   "metadata": {},
   "source": [
    "This ensures that we have the right side correct."
   ]
  },
  {
   "cell_type": "code",
   "execution_count": 148,
   "metadata": {},
   "outputs": [
    {
     "name": "stdout",
     "output_type": "stream",
     "text": [
      "00011110\n",
      ">> 3 bits\n",
      "00000011\n"
     ]
    }
   ],
   "source": [
    "right_side = num >> rotate_n_bits\n",
    "print(binary8(num))\n",
    "print(f'>> {rotate_n_bits} bits')\n",
    "print(binary8(right_side))\n"
   ]
  },
  {
   "cell_type": "markdown",
   "metadata": {},
   "source": [
    "Now we need to capture the left side."
   ]
  },
  {
   "cell_type": "code",
   "execution_count": 149,
   "metadata": {},
   "outputs": [
    {
     "name": "stdout",
     "output_type": "stream",
     "text": [
      "00011110\n",
      "11111111000\n",
      "00011000\n"
     ]
    }
   ],
   "source": [
    "\n",
    "\n",
    "# Create a mask with the last five bits set to 1\n",
    "mask = 0b11111111 << rotate_n_bits\n",
    "\n",
    "# Apply the mask to capture the last five bits\n",
    "left_side = num & mask\n",
    "\n",
    "# Print the results\n",
    "print(binary8(num))    # Output: 00011110\n",
    "print(binary8(mask))   # Output: 00011111\n",
    "print(binary8(left_side)) # Output: 00011110"
   ]
  },
  {
   "cell_type": "markdown",
   "metadata": {},
   "source": [
    "See them together."
   ]
  },
  {
   "cell_type": "code",
   "execution_count": 151,
   "metadata": {},
   "outputs": [
    {
     "name": "stdout",
     "output_type": "stream",
     "text": [
      "ORIGINAL NUMBER\n",
      "00011110\n",
      "RIGHT SIDE AFTER >> 3 BITS\n",
      "00000011\n",
      "LEFT SIDE\n",
      "00011000\n",
      "TOGETHER\n"
     ]
    }
   ],
   "source": [
    "print(\"ORIGINAL NUMBER\")\n",
    "print(binary8(num)) \n",
    "print(f\"RIGHT SIDE AFTER >> {rotate_n_bits} BITS\")\n",
    "print(binary8(right_side)) \n",
    "print(\"LEFT SIDE\")\n",
    "print(binary8(left_side)) \n",
    "print(\"TOGETHER\")\n"
   ]
  },
  {
   "cell_type": "code",
   "execution_count": 169,
   "metadata": {},
   "outputs": [
    {
     "name": "stdout",
     "output_type": "stream",
     "text": [
      "ORIGINAL NUMBER\n",
      "00011110\n",
      "RIGHT SIDE AFTER >> 3 BITS\n",
      "00000011\n",
      "LEFT SIDE AFTER << 5 BITS\n",
      "11000000\n",
      "RIGHT ROTATED (combined with |)\n",
      "11000011\n"
     ]
    }
   ],
   "source": [
    "# Perform right rotation\n",
    "left_side = (num << (max_bits - rotate_n_bits)) & 0xFF\n",
    "right_side = (num >> rotate_n_bits)\n",
    "right_rotation = right_side | left_side\n",
    "\n",
    "# Print the results\n",
    "print(\"ORIGINAL NUMBER\")\n",
    "print(binary8(num)) \n",
    "print(f\"RIGHT SIDE AFTER >> {rotate_n_bits} BITS\")\n",
    "print(binary8(right_side)) \n",
    "print(f\"LEFT SIDE AFTER << {max_bits - rotate_n_bits} BITS\")\n",
    "print(binary8(left_side))\n",
    "print(\"RIGHT ROTATED (combined with |)\")\n",
    "print(binary8(right_rotation))\n"
   ]
  },
  {
   "cell_type": "code",
   "execution_count": null,
   "metadata": {},
   "outputs": [],
   "source": []
  },
  {
   "cell_type": "code",
   "execution_count": null,
   "metadata": {},
   "outputs": [],
   "source": []
  }
 ],
 "metadata": {
  "kernelspec": {
   "display_name": ".venv",
   "language": "python",
   "name": "python3"
  },
  "language_info": {
   "codemirror_mode": {
    "name": "ipython",
    "version": 3
   },
   "file_extension": ".py",
   "mimetype": "text/x-python",
   "name": "python",
   "nbconvert_exporter": "python",
   "pygments_lexer": "ipython3",
   "version": "3.11.9"
  }
 },
 "nbformat": 4,
 "nbformat_minor": 2
}
